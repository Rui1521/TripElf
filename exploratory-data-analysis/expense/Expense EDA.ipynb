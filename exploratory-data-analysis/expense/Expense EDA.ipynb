{
 "cells": [
  {
   "cell_type": "markdown",
   "metadata": {},
   "source": [
    "# NYC Expense Analysis"
   ]
  },
  {
   "cell_type": "markdown",
   "metadata": {},
   "source": [
    "## 1 Introduction"
   ]
  },
  {
   "cell_type": "markdown",
   "metadata": {},
   "source": [
    "This is an exploratory data analysis for New York expense information from 2016 to 2018. The results shown in this notebook will be used for building TripElf, an interactive map application."
   ]
  },
  {
   "cell_type": "markdown",
   "metadata": {},
   "source": [
    "### 1.1 Load Libraries"
   ]
  },
  {
   "cell_type": "code",
   "execution_count": 1,
   "metadata": {},
   "outputs": [],
   "source": [
    "# settings\n",
    "import pandas as pd\n",
    "pd.set_option('display.max_rows', 500)\n",
    "pd.set_option('display.max_columns', 500)\n",
    "pd.set_option('display.width', 1000)\n",
    "\n",
    "import numpy as np\n",
    "import matplotlib.pyplot as plt\n",
    "%matplotlib inline\n",
    "%config InlineBackend.figure_format = 'retina'\n",
    "plt.rcParams['figure.figsize'] = (20.0, 10.0)\n",
    "\n",
    "import geopandas as gpd\n",
    "import warnings\n",
    "warnings.filterwarnings(\"ignore\")\n",
    "from shapely.geometry import Point, Polygon\n",
    "import seaborn as sns"
   ]
  },
  {
   "cell_type": "markdown",
   "metadata": {},
   "source": [
    "### 1.2 Load Dataset"
   ]
  },
  {
   "cell_type": "code",
   "execution_count": 2,
   "metadata": {},
   "outputs": [
    {
     "data": {
      "text/html": [
       "<div>\n",
       "<style scoped>\n",
       "    .dataframe tbody tr th:only-of-type {\n",
       "        vertical-align: middle;\n",
       "    }\n",
       "\n",
       "    .dataframe tbody tr th {\n",
       "        vertical-align: top;\n",
       "    }\n",
       "\n",
       "    .dataframe thead th {\n",
       "        text-align: right;\n",
       "    }\n",
       "</style>\n",
       "<table border=\"1\" class=\"dataframe\">\n",
       "  <thead>\n",
       "    <tr style=\"text-align: right;\">\n",
       "      <th></th>\n",
       "      <th>neighbourhood_group_cleansed</th>\n",
       "      <th>neighbourhood_cleansed</th>\n",
       "      <th>price</th>\n",
       "      <th>weekly_price</th>\n",
       "      <th>monthly_price</th>\n",
       "      <th>security_deposit</th>\n",
       "      <th>cleaning_fee</th>\n",
       "      <th>extra_people</th>\n",
       "    </tr>\n",
       "  </thead>\n",
       "  <tbody>\n",
       "    <tr>\n",
       "      <th>0</th>\n",
       "      <td>Manhattan</td>\n",
       "      <td>Harlem</td>\n",
       "      <td>$59.00</td>\n",
       "      <td>$720.00</td>\n",
       "      <td>$1,690.00</td>\n",
       "      <td>$0.00</td>\n",
       "      <td>$60.00</td>\n",
       "      <td>$39.00</td>\n",
       "    </tr>\n",
       "    <tr>\n",
       "      <th>1</th>\n",
       "      <td>Manhattan</td>\n",
       "      <td>Upper West Side</td>\n",
       "      <td>$140.00</td>\n",
       "      <td>$900.00</td>\n",
       "      <td>NaN</td>\n",
       "      <td>NaN</td>\n",
       "      <td>$40.00</td>\n",
       "      <td>$28.00</td>\n",
       "    </tr>\n",
       "    <tr>\n",
       "      <th>2</th>\n",
       "      <td>Brooklyn</td>\n",
       "      <td>Kensington</td>\n",
       "      <td>$149.00</td>\n",
       "      <td>$299.00</td>\n",
       "      <td>$999.00</td>\n",
       "      <td>$100.00</td>\n",
       "      <td>$25.00</td>\n",
       "      <td>$25.00</td>\n",
       "    </tr>\n",
       "    <tr>\n",
       "      <th>3</th>\n",
       "      <td>Manhattan</td>\n",
       "      <td>Midtown</td>\n",
       "      <td>$225.00</td>\n",
       "      <td>$1,995.00</td>\n",
       "      <td>NaN</td>\n",
       "      <td>$350.00</td>\n",
       "      <td>$100.00</td>\n",
       "      <td>$0.00</td>\n",
       "    </tr>\n",
       "    <tr>\n",
       "      <th>4</th>\n",
       "      <td>Manhattan</td>\n",
       "      <td>Harlem</td>\n",
       "      <td>$89.00</td>\n",
       "      <td>$400.00</td>\n",
       "      <td>$1,100.00</td>\n",
       "      <td>$100.00</td>\n",
       "      <td>$30.00</td>\n",
       "      <td>$55.00</td>\n",
       "    </tr>\n",
       "  </tbody>\n",
       "</table>\n",
       "</div>"
      ],
      "text/plain": [
       "  neighbourhood_group_cleansed neighbourhood_cleansed    price weekly_price monthly_price security_deposit cleaning_fee extra_people\n",
       "0                    Manhattan                 Harlem   $59.00      $720.00     $1,690.00            $0.00       $60.00       $39.00\n",
       "1                    Manhattan        Upper West Side  $140.00      $900.00           NaN              NaN       $40.00       $28.00\n",
       "2                     Brooklyn             Kensington  $149.00      $299.00       $999.00          $100.00       $25.00       $25.00\n",
       "3                    Manhattan                Midtown  $225.00    $1,995.00           NaN          $350.00      $100.00        $0.00\n",
       "4                    Manhattan                 Harlem   $89.00      $400.00     $1,100.00          $100.00       $30.00       $55.00"
      ]
     },
     "execution_count": 2,
     "metadata": {},
     "output_type": "execute_result"
    }
   ],
   "source": [
    "listings = pd.read_csv(\"listings.csv\")\n",
    "expense = listings[[\"neighbourhood_group_cleansed\",\"neighbourhood_cleansed\",\"price\",\"weekly_price\",\"monthly_price\",\"security_deposit\",\"cleaning_fee\",\"extra_people\"]]\n",
    "expense.head()"
   ]
  },
  {
   "cell_type": "markdown",
   "metadata": {},
   "source": [
    "### 1.3 Dataset structure and content"
   ]
  },
  {
   "cell_type": "code",
   "execution_count": 3,
   "metadata": {},
   "outputs": [
    {
     "name": "stdout",
     "output_type": "stream",
     "text": [
      "Shape of the dataset:  (49056, 8)\n"
     ]
    }
   ],
   "source": [
    "print(\"Shape of the dataset: \", expense.shape)"
   ]
  },
  {
   "cell_type": "code",
   "execution_count": 4,
   "metadata": {},
   "outputs": [
    {
     "data": {
      "text/plain": [
       "Index(['neighbourhood_group_cleansed', 'neighbourhood_cleansed', 'price', 'weekly_price', 'monthly_price', 'security_deposit', 'cleaning_fee', 'extra_people'], dtype='object')"
      ]
     },
     "execution_count": 4,
     "metadata": {},
     "output_type": "execute_result"
    }
   ],
   "source": [
    "expense.columns"
   ]
  },
  {
   "cell_type": "code",
   "execution_count": 5,
   "metadata": {},
   "outputs": [
    {
     "data": {
      "text/plain": [
       "neighbourhood_group_cleansed    object\n",
       "neighbourhood_cleansed          object\n",
       "price                           object\n",
       "weekly_price                    object\n",
       "monthly_price                   object\n",
       "security_deposit                object\n",
       "cleaning_fee                    object\n",
       "extra_people                    object\n",
       "dtype: object"
      ]
     },
     "execution_count": 5,
     "metadata": {},
     "output_type": "execute_result"
    }
   ],
   "source": [
    "expense.dtypes"
   ]
  },
  {
   "cell_type": "markdown",
   "metadata": {},
   "source": [
    "### 1.4 Missing Values"
   ]
  },
  {
   "cell_type": "code",
   "execution_count": 6,
   "metadata": {},
   "outputs": [
    {
     "name": "stdout",
     "output_type": "stream",
     "text": [
      "Number of rows of the dataset:  49056\n"
     ]
    },
    {
     "data": {
      "text/plain": [
       "neighbourhood_group_cleansed        0\n",
       "neighbourhood_cleansed              0\n",
       "price                               0\n",
       "weekly_price                    42325\n",
       "monthly_price                   43115\n",
       "security_deposit                18087\n",
       "cleaning_fee                    11078\n",
       "extra_people                        0\n",
       "dtype: int64"
      ]
     },
     "execution_count": 6,
     "metadata": {},
     "output_type": "execute_result"
    }
   ],
   "source": [
    "print(\"Number of rows of the dataset: \", len(expense))\n",
    "expense.isnull().sum()"
   ]
  },
  {
   "cell_type": "markdown",
   "metadata": {},
   "source": [
    "## 2 Feature Aggregration"
   ]
  },
  {
   "cell_type": "code",
   "execution_count": 7,
   "metadata": {},
   "outputs": [],
   "source": [
    "# convert datatype\n",
    "expense[\"price2\"] = expense['price'].str.strip(\"$\").convert_objects(convert_numeric=True)\n",
    "expense[\"weekly_price2\"] = expense['weekly_price'].str.strip(\"$\").convert_objects(convert_numeric=True)\n",
    "expense[\"monthly_price2\"] = expense['monthly_price'].str.strip(\"$\").convert_objects(convert_numeric=True)\n",
    "expense[\"security_deposit2\"] = expense['security_deposit'].str.strip(\"$\").convert_objects(convert_numeric=True)\n",
    "expense[\"cleaning_fee2\"] = expense['cleaning_fee'].str.strip(\"$\").convert_objects(convert_numeric=True)\n",
    "expense[\"extra_people2\"] = expense['extra_people'].str.strip(\"$\").convert_objects(convert_numeric=True)"
   ]
  },
  {
   "cell_type": "code",
   "execution_count": 8,
   "metadata": {},
   "outputs": [
    {
     "data": {
      "text/plain": [
       "<matplotlib.axes._subplots.AxesSubplot at 0x294c3029f28>"
      ]
     },
     "execution_count": 8,
     "metadata": {},
     "output_type": "execute_result"
    },
    {
     "data": {
      "image/png": "[encoded data removed]",
      "text/plain": [
       "<Figure size 432x288 with 1 Axes>"
      ]
     },
     "metadata": {
      "image/png": {
       "height": 320,
       "width": 377
      },
      "needs_background": "light"
     },
     "output_type": "display_data"
    },
    {
     "data": {
      "image/png": "[encoded data removed]",
      "text/plain": [
       "<Figure size 432x288 with 1 Axes>"
      ]
     },
     "metadata": {
      "image/png": {
       "height": 250,
       "width": 390
      },
      "needs_background": "light"
     },
     "output_type": "display_data"
    },
    {
     "data": {
      "image/png": "[encoded data removed]",
      "text/plain": [
       "<Figure size 432x288 with 1 Axes>"
      ]
     },
     "metadata": {
      "image/png": {
       "height": 250,
       "width": 393
      },
      "needs_background": "light"
     },
     "output_type": "display_data"
    }
   ],
   "source": [
    "expense.groupby([\"neighbourhood_group_cleansed\"])[[\"price2\"]].aggregate(np.mean).plot.bar()\n",
    "expense.groupby([\"neighbourhood_cleansed\"])[[\"price2\"]].aggregate(np.mean).plot.hist()\n",
    "expense.groupby([\"neighbourhood_group_cleansed\"])[[\"price2\"]].aggregate(np.mean).plot.hist()"
   ]
  },
  {
   "cell_type": "code",
   "execution_count": 9,
   "metadata": {},
   "outputs": [
    {
     "data": {
      "text/html": [
       "<div>\n",
       "<style scoped>\n",
       "    .dataframe tbody tr th:only-of-type {\n",
       "        vertical-align: middle;\n",
       "    }\n",
       "\n",
       "    .dataframe tbody tr th {\n",
       "        vertical-align: top;\n",
       "    }\n",
       "\n",
       "    .dataframe thead th {\n",
       "        text-align: right;\n",
       "    }\n",
       "</style>\n",
       "<table border=\"1\" class=\"dataframe\">\n",
       "  <thead>\n",
       "    <tr style=\"text-align: right;\">\n",
       "      <th></th>\n",
       "      <th>neighbourhood_group_cleansed</th>\n",
       "      <th>neighbourhood_cleansed</th>\n",
       "      <th>price2</th>\n",
       "      <th>cleaning_fee2</th>\n",
       "      <th>extra_people2</th>\n",
       "    </tr>\n",
       "  </thead>\n",
       "  <tbody>\n",
       "    <tr>\n",
       "      <th>0</th>\n",
       "      <td>Manhattan</td>\n",
       "      <td>Allerton</td>\n",
       "      <td>89.289474</td>\n",
       "      <td>42.193548</td>\n",
       "      <td>15.605263</td>\n",
       "    </tr>\n",
       "    <tr>\n",
       "      <th>1</th>\n",
       "      <td>Manhattan</td>\n",
       "      <td>Arden Heights</td>\n",
       "      <td>58.000000</td>\n",
       "      <td>32.500000</td>\n",
       "      <td>22.500000</td>\n",
       "    </tr>\n",
       "    <tr>\n",
       "      <th>2</th>\n",
       "      <td>Brooklyn</td>\n",
       "      <td>Arrochar</td>\n",
       "      <td>109.500000</td>\n",
       "      <td>53.421053</td>\n",
       "      <td>14.500000</td>\n",
       "    </tr>\n",
       "    <tr>\n",
       "      <th>3</th>\n",
       "      <td>Manhattan</td>\n",
       "      <td>Arverne</td>\n",
       "      <td>157.186667</td>\n",
       "      <td>62.920635</td>\n",
       "      <td>25.533333</td>\n",
       "    </tr>\n",
       "    <tr>\n",
       "      <th>4</th>\n",
       "      <td>Manhattan</td>\n",
       "      <td>Astoria</td>\n",
       "      <td>100.284424</td>\n",
       "      <td>47.372549</td>\n",
       "      <td>12.856180</td>\n",
       "    </tr>\n",
       "  </tbody>\n",
       "</table>\n",
       "</div>"
      ],
      "text/plain": [
       "  neighbourhood_group_cleansed neighbourhood_cleansed      price2  cleaning_fee2  extra_people2\n",
       "0                    Manhattan               Allerton   89.289474      42.193548      15.605263\n",
       "1                    Manhattan          Arden Heights   58.000000      32.500000      22.500000\n",
       "2                     Brooklyn               Arrochar  109.500000      53.421053      14.500000\n",
       "3                    Manhattan                Arverne  157.186667      62.920635      25.533333\n",
       "4                    Manhattan                Astoria  100.284424      47.372549      12.856180"
      ]
     },
     "execution_count": 9,
     "metadata": {},
     "output_type": "execute_result"
    }
   ],
   "source": [
    "# expense aggregrate\n",
    "\n",
    "expense_agg1 = expense.groupby([\"neighbourhood_cleansed\"])[[\"price2\"]].mean().reset_index()\n",
    "expense_agg2 = expense.groupby([\"neighbourhood_cleansed\"])[[\"cleaning_fee2\"]].mean().reset_index()\n",
    "expense_agg3 = expense.groupby([\"neighbourhood_cleansed\"])[[\"extra_people2\"]].mean().reset_index()\n",
    "expense4 = expense[[\"neighbourhood_group_cleansed\"]]\n",
    "expense_agg = pd.concat([expense4,expense_agg1,expense_agg2[\"cleaning_fee2\"],expense_agg3[\"extra_people2\"]],axis = 1)\n",
    "expense_agg.head()"
   ]
  },
  {
   "cell_type": "code",
   "execution_count": 10,
   "metadata": {},
   "outputs": [
    {
     "data": {
      "text/html": [
       "<div>\n",
       "<style scoped>\n",
       "    .dataframe tbody tr th:only-of-type {\n",
       "        vertical-align: middle;\n",
       "    }\n",
       "\n",
       "    .dataframe tbody tr th {\n",
       "        vertical-align: top;\n",
       "    }\n",
       "\n",
       "    .dataframe thead th {\n",
       "        text-align: right;\n",
       "    }\n",
       "</style>\n",
       "<table border=\"1\" class=\"dataframe\">\n",
       "  <thead>\n",
       "    <tr style=\"text-align: right;\">\n",
       "      <th></th>\n",
       "      <th>neighbourhood</th>\n",
       "      <th>neighbourhood_group</th>\n",
       "      <th>superhost_count</th>\n",
       "      <th>avg_host_response_hour</th>\n",
       "      <th>avg_host_response_rate</th>\n",
       "    </tr>\n",
       "  </thead>\n",
       "  <tbody>\n",
       "    <tr>\n",
       "      <th>0</th>\n",
       "      <td>Bayswater</td>\n",
       "      <td>Manhattan</td>\n",
       "      <td>0.0</td>\n",
       "      <td>2.44</td>\n",
       "      <td>0.94</td>\n",
       "    </tr>\n",
       "    <tr>\n",
       "      <th>1</th>\n",
       "      <td>Allerton</td>\n",
       "      <td>Manhattan</td>\n",
       "      <td>7.0</td>\n",
       "      <td>5.48</td>\n",
       "      <td>0.93</td>\n",
       "    </tr>\n",
       "    <tr>\n",
       "      <th>2</th>\n",
       "      <td>City Island</td>\n",
       "      <td>Brooklyn</td>\n",
       "      <td>5.0</td>\n",
       "      <td>4.09</td>\n",
       "      <td>0.92</td>\n",
       "    </tr>\n",
       "    <tr>\n",
       "      <th>3</th>\n",
       "      <td>Ditmars Steinway</td>\n",
       "      <td>Brooklyn</td>\n",
       "      <td>57.0</td>\n",
       "      <td>5.42</td>\n",
       "      <td>0.95</td>\n",
       "    </tr>\n",
       "    <tr>\n",
       "      <th>4</th>\n",
       "      <td>Ozone Park</td>\n",
       "      <td>Brooklyn</td>\n",
       "      <td>10.0</td>\n",
       "      <td>6.84</td>\n",
       "      <td>0.97</td>\n",
       "    </tr>\n",
       "  </tbody>\n",
       "</table>\n",
       "</div>"
      ],
      "text/plain": [
       "      neighbourhood neighbourhood_group  superhost_count  avg_host_response_hour  avg_host_response_rate\n",
       "0         Bayswater           Manhattan              0.0                    2.44                    0.94\n",
       "1          Allerton           Manhattan              7.0                    5.48                    0.93\n",
       "2       City Island            Brooklyn              5.0                    4.09                    0.92\n",
       "3  Ditmars Steinway            Brooklyn             57.0                    5.42                    0.95\n",
       "4        Ozone Park            Brooklyn             10.0                    6.84                    0.97"
      ]
     },
     "execution_count": 10,
     "metadata": {},
     "output_type": "execute_result"
    }
   ],
   "source": [
    "# neighborhood reference\n",
    "reference = pd.read_csv(\"host_join.csv\")\n",
    "reference.head()"
   ]
  },
  {
   "cell_type": "code",
   "execution_count": 11,
   "metadata": {},
   "outputs": [
    {
     "data": {
      "text/html": [
       "<div>\n",
       "<style scoped>\n",
       "    .dataframe tbody tr th:only-of-type {\n",
       "        vertical-align: middle;\n",
       "    }\n",
       "\n",
       "    .dataframe tbody tr th {\n",
       "        vertical-align: top;\n",
       "    }\n",
       "\n",
       "    .dataframe thead th {\n",
       "        text-align: right;\n",
       "    }\n",
       "</style>\n",
       "<table border=\"1\" class=\"dataframe\">\n",
       "  <thead>\n",
       "    <tr style=\"text-align: right;\">\n",
       "      <th></th>\n",
       "      <th>neighbourhood</th>\n",
       "      <th>neighbourhood_group</th>\n",
       "    </tr>\n",
       "  </thead>\n",
       "  <tbody>\n",
       "    <tr>\n",
       "      <th>0</th>\n",
       "      <td>Bayswater</td>\n",
       "      <td>Manhattan</td>\n",
       "    </tr>\n",
       "    <tr>\n",
       "      <th>1</th>\n",
       "      <td>Allerton</td>\n",
       "      <td>Manhattan</td>\n",
       "    </tr>\n",
       "    <tr>\n",
       "      <th>2</th>\n",
       "      <td>City Island</td>\n",
       "      <td>Brooklyn</td>\n",
       "    </tr>\n",
       "    <tr>\n",
       "      <th>3</th>\n",
       "      <td>Ditmars Steinway</td>\n",
       "      <td>Brooklyn</td>\n",
       "    </tr>\n",
       "    <tr>\n",
       "      <th>4</th>\n",
       "      <td>Ozone Park</td>\n",
       "      <td>Brooklyn</td>\n",
       "    </tr>\n",
       "  </tbody>\n",
       "</table>\n",
       "</div>"
      ],
      "text/plain": [
       "      neighbourhood neighbourhood_group\n",
       "0         Bayswater           Manhattan\n",
       "1          Allerton           Manhattan\n",
       "2       City Island            Brooklyn\n",
       "3  Ditmars Steinway            Brooklyn\n",
       "4        Ozone Park            Brooklyn"
      ]
     },
     "execution_count": 11,
     "metadata": {},
     "output_type": "execute_result"
    }
   ],
   "source": [
    "group = reference[[\"neighbourhood\",\"neighbourhood_group\"]]\n",
    "group.head()"
   ]
  },
  {
   "cell_type": "code",
   "execution_count": 12,
   "metadata": {},
   "outputs": [
    {
     "data": {
      "text/html": [
       "<div>\n",
       "<style scoped>\n",
       "    .dataframe tbody tr th:only-of-type {\n",
       "        vertical-align: middle;\n",
       "    }\n",
       "\n",
       "    .dataframe tbody tr th {\n",
       "        vertical-align: top;\n",
       "    }\n",
       "\n",
       "    .dataframe thead th {\n",
       "        text-align: right;\n",
       "    }\n",
       "</style>\n",
       "<table border=\"1\" class=\"dataframe\">\n",
       "  <thead>\n",
       "    <tr style=\"text-align: right;\">\n",
       "      <th></th>\n",
       "      <th>neighbourhood</th>\n",
       "      <th>neighbourhood_group</th>\n",
       "      <th>avg_price</th>\n",
       "      <th>avg_cleaning_fee</th>\n",
       "      <th>avg_extra_people_fee</th>\n",
       "    </tr>\n",
       "  </thead>\n",
       "  <tbody>\n",
       "    <tr>\n",
       "      <th>0</th>\n",
       "      <td>Bayswater</td>\n",
       "      <td>Manhattan</td>\n",
       "      <td>74.111111</td>\n",
       "      <td>22.142857</td>\n",
       "      <td>25.777778</td>\n",
       "    </tr>\n",
       "    <tr>\n",
       "      <th>1</th>\n",
       "      <td>Allerton</td>\n",
       "      <td>Manhattan</td>\n",
       "      <td>89.289474</td>\n",
       "      <td>42.193548</td>\n",
       "      <td>15.605263</td>\n",
       "    </tr>\n",
       "    <tr>\n",
       "      <th>2</th>\n",
       "      <td>City Island</td>\n",
       "      <td>Brooklyn</td>\n",
       "      <td>107.461538</td>\n",
       "      <td>43.333333</td>\n",
       "      <td>16.846154</td>\n",
       "    </tr>\n",
       "    <tr>\n",
       "      <th>3</th>\n",
       "      <td>Ditmars Steinway</td>\n",
       "      <td>Brooklyn</td>\n",
       "      <td>99.198795</td>\n",
       "      <td>45.036585</td>\n",
       "      <td>15.478916</td>\n",
       "    </tr>\n",
       "    <tr>\n",
       "      <th>4</th>\n",
       "      <td>Ozone Park</td>\n",
       "      <td>Brooklyn</td>\n",
       "      <td>89.755556</td>\n",
       "      <td>67.588235</td>\n",
       "      <td>10.422222</td>\n",
       "    </tr>\n",
       "  </tbody>\n",
       "</table>\n",
       "</div>"
      ],
      "text/plain": [
       "      neighbourhood neighbourhood_group   avg_price  avg_cleaning_fee  avg_extra_people_fee\n",
       "0         Bayswater           Manhattan   74.111111         22.142857             25.777778\n",
       "1          Allerton           Manhattan   89.289474         42.193548             15.605263\n",
       "2       City Island            Brooklyn  107.461538         43.333333             16.846154\n",
       "3  Ditmars Steinway            Brooklyn   99.198795         45.036585             15.478916\n",
       "4        Ozone Park            Brooklyn   89.755556         67.588235             10.422222"
      ]
     },
     "execution_count": 12,
     "metadata": {},
     "output_type": "execute_result"
    }
   ],
   "source": [
    "# expense join\n",
    "\n",
    "expense_join = pd.merge(group, expense_agg, how='left', left_on='neighbourhood', right_on='neighbourhood_cleansed')\n",
    "expense_join = expense_join[[\"neighbourhood\",\"neighbourhood_group_cleansed\",\"price2\",\"cleaning_fee2\",\"extra_people2\"]]\n",
    "expense_join = expense_join.rename(columns = {\"neighbourhood\":\"neighbourhood\",\"neighbourhood_group_cleansed\":\"neighbourhood_group\",\"price2\":\"avg_price\",\"cleaning_fee2\":\"avg_cleaning_fee\",\"extra_people2\":\"avg_extra_people_fee\"})\n",
    "expense_join.head()"
   ]
  },
  {
   "cell_type": "code",
   "execution_count": 13,
   "metadata": {},
   "outputs": [],
   "source": [
    "expense_join = expense_join.fillna(0.00)"
   ]
  },
  {
   "cell_type": "code",
   "execution_count": 14,
   "metadata": {},
   "outputs": [
    {
     "data": {
      "text/html": [
       "<div>\n",
       "<style scoped>\n",
       "    .dataframe tbody tr th:only-of-type {\n",
       "        vertical-align: middle;\n",
       "    }\n",
       "\n",
       "    .dataframe tbody tr th {\n",
       "        vertical-align: top;\n",
       "    }\n",
       "\n",
       "    .dataframe thead th {\n",
       "        text-align: right;\n",
       "    }\n",
       "</style>\n",
       "<table border=\"1\" class=\"dataframe\">\n",
       "  <thead>\n",
       "    <tr style=\"text-align: right;\">\n",
       "      <th></th>\n",
       "      <th>neighbourhood</th>\n",
       "      <th>neighbourhood_group</th>\n",
       "      <th>avg_price</th>\n",
       "      <th>avg_cleaning_fee</th>\n",
       "      <th>avg_extra_people_fee</th>\n",
       "    </tr>\n",
       "  </thead>\n",
       "  <tbody>\n",
       "    <tr>\n",
       "      <th>0</th>\n",
       "      <td>Bayswater</td>\n",
       "      <td>Manhattan</td>\n",
       "      <td>74.111111</td>\n",
       "      <td>22.142857</td>\n",
       "      <td>25.777778</td>\n",
       "    </tr>\n",
       "    <tr>\n",
       "      <th>1</th>\n",
       "      <td>Allerton</td>\n",
       "      <td>Manhattan</td>\n",
       "      <td>89.289474</td>\n",
       "      <td>42.193548</td>\n",
       "      <td>15.605263</td>\n",
       "    </tr>\n",
       "    <tr>\n",
       "      <th>2</th>\n",
       "      <td>City Island</td>\n",
       "      <td>Brooklyn</td>\n",
       "      <td>107.461538</td>\n",
       "      <td>43.333333</td>\n",
       "      <td>16.846154</td>\n",
       "    </tr>\n",
       "    <tr>\n",
       "      <th>3</th>\n",
       "      <td>Ditmars Steinway</td>\n",
       "      <td>Brooklyn</td>\n",
       "      <td>99.198795</td>\n",
       "      <td>45.036585</td>\n",
       "      <td>15.478916</td>\n",
       "    </tr>\n",
       "    <tr>\n",
       "      <th>4</th>\n",
       "      <td>Ozone Park</td>\n",
       "      <td>Brooklyn</td>\n",
       "      <td>89.755556</td>\n",
       "      <td>67.588235</td>\n",
       "      <td>10.422222</td>\n",
       "    </tr>\n",
       "  </tbody>\n",
       "</table>\n",
       "</div>"
      ],
      "text/plain": [
       "      neighbourhood neighbourhood_group   avg_price  avg_cleaning_fee  avg_extra_people_fee\n",
       "0         Bayswater           Manhattan   74.111111         22.142857             25.777778\n",
       "1          Allerton           Manhattan   89.289474         42.193548             15.605263\n",
       "2       City Island            Brooklyn  107.461538         43.333333             16.846154\n",
       "3  Ditmars Steinway            Brooklyn   99.198795         45.036585             15.478916\n",
       "4        Ozone Park            Brooklyn   89.755556         67.588235             10.422222"
      ]
     },
     "execution_count": 14,
     "metadata": {},
     "output_type": "execute_result"
    }
   ],
   "source": [
    "expense_join.head()"
   ]
  }
 ],
 "metadata": {
  "kernelspec": {
   "display_name": "Python 3",
   "language": "python",
   "name": "python3"
  },
  "language_info": {
   "codemirror_mode": {
    "name": "ipython",
    "version": 3
   },
   "file_extension": ".py",
   "mimetype": "text/x-python",
   "name": "python",
   "nbconvert_exporter": "python",
   "pygments_lexer": "ipython3",
   "version": "3.7.0"
  }
 },
 "nbformat": 4,
 "nbformat_minor": 2
}
