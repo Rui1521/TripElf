{
 "cells": [
  {
   "cell_type": "code",
   "execution_count": 25,
   "metadata": {},
   "outputs": [],
   "source": [
    "import pandas as pd\n",
    "from collections import Counter\n",
    "import numpy as np\n",
    "import nltk\n",
    "from nltk.tokenize import word_tokenize, sent_tokenize\n",
    "import warnings\n",
    "import torch\n",
    "from allennlp.commands.elmo import ElmoEmbedder\n",
    "import scipy\n",
    "import random\n",
    "from sklearn.feature_extraction.text import CountVectorizer\n",
    "from preprocess import sent_filter, prep_text\n",
    "from sklearn.cluster import KMeans\n",
    "import os\n",
    "warnings.filterwarnings(\"ignore\")"
   ]
  },
  {
   "cell_type": "code",
   "execution_count": 40,
   "metadata": {},
   "outputs": [],
   "source": [
    "listing = pd.read_csv(\"Data/listings.csv\")\n",
    "overviews = listing.rename(columns={\"id\": \"listing_id\"})[[\"neighbourhood\",\"neighborhood_overview\"]].dropna()\n",
    "neighbors = list(set(overviews.neighbourhood))\n",
    "describs = {}\n",
    "for ngb in neighbors:\n",
    "    items = sent_tokenize(\"\".join(list(overviews[overviews['neighbourhood'] == ngb]['neighborhood_overview'])))\n",
    "    for i in range(len(items)-1,-1,-1):\n",
    "        try:\n",
    "            if len(items[i]) < 10 and len(items[i].split()) < 4:\n",
    "                del items[i]  \n",
    "            elif not sent_filter(items[i]):\n",
    "                del items[i]    \n",
    "        except:\n",
    "            del items[i] \n",
    "    describs[ngb] = \" \".join(items)\n",
    "    #print(ngb)\n",
    "frame = pd.DataFrame.from_dict(describs, orient='index')\n",
    "frame.reset_index(level=0, inplace=True)\n",
    "frame.rename(columns={ \"index\": \"neighborhood\", 0: \"descriptions\"}, inplace = True)\n",
    "frame.to_csv(\"host_descriptions.csv\", index = False)"
   ]
  },
  {
   "cell_type": "code",
   "execution_count": 14,
   "metadata": {},
   "outputs": [],
   "source": [
    "overviews = pd.read_csv(\"host_descriptions.csv\").set_index(\"neighborhood\")\n",
    "overviews = overviews.to_dict()['descriptions']\n",
    "keys = overviews.keys()"
   ]
  },
  {
   "cell_type": "code",
   "execution_count": 27,
   "metadata": {},
   "outputs": [
    {
     "name": "stderr",
     "output_type": "stream",
     "text": [
      "04/04/2019 20:59:23 - INFO - allennlp.commands.elmo -   Initializing ELMo.\n"
     ]
    }
   ],
   "source": [
    "elmo = ElmoEmbedder()\n",
    "# Embedding + Cluster + Sample\n",
    "def cluster_sum(raw_sents, new_sents, n_clusters):\n",
    "    vectors = []\n",
    "    for i in range(len(new_sents)):\n",
    "        vec = elmo.embed_sentence(new_sents[i].split())\n",
    "        vectors.append(np.mean(vec, axis = 1).reshape(1,-1)[0])\n",
    "    kmeans = KMeans(n_clusters=n_clusters, random_state=0).fit(vectors)\n",
    "    distances = kmeans.transform(vectors)\n",
    "    pos = np.argmin(distances, axis = 0)\n",
    "    return np.array(raw_sents)[pos]"
   ]
  },
  {
   "cell_type": "code",
   "execution_count": 34,
   "metadata": {
    "scrolled": true
   },
   "outputs": [],
   "source": [
    "summary = {}\n",
    "for item in keys:\n",
    "    try:    \n",
    "        if len(overviews[item]) > 5:\n",
    "            raw_sents, new_sents = prep_text(sent_tokenize(overviews[item]), stopwords_removal = False)\n",
    "            raw_sents, new_sents = list(set(raw_sents)), list(set(new_sents))\n",
    "            if len(raw_sents) > 5:\n",
    "                summ = cluster_sum(raw_sents, new_sents, 5)\n",
    "                summary[item] = summ\n",
    "            else:\n",
    "                summary[item] = raw_sents\n",
    "    except:\n",
    "        continue"
   ]
  },
  {
   "cell_type": "code",
   "execution_count": 68,
   "metadata": {},
   "outputs": [],
   "source": [
    "frame = pd.DataFrame.from_dict(summary, orient='index')\n",
    "frame.reset_index(level=0, inplace=True)\n",
    "frame.rename(columns={'index':'neighbourhood', 0: \"overviews\"}, inplace=True)\n",
    "dd = pd.read_csv(\"Results/summary2.csv\")\n",
    "\n",
    "summs_merged = pd.merge(dd, frame, how='left', on='neighbourhood').drop(\"Unnamed: 0\", axis = 1)\n",
    "summs_merged.rename(columns={'cluster_sum':'reviews'}, inplace=True)\n",
    "summs_merged.to_csv(\"final_summary.csv\", index = False)\n",
    "#summs_merged.to_csv(\"overviews_summary.csv\")"
   ]
  },
  {
   "cell_type": "code",
   "execution_count": null,
   "metadata": {},
   "outputs": [],
   "source": [
    "dd = pd.read_csv(\"restaurants.csv\")\n",
    "folders = os.listdir(\"query_sum\")[1:]\n",
    "summs = []\n",
    "for i in range(len(folders)):\n",
    "    files = os.listdir(\"query_sum/\" + folders[i])\n",
    "    summary = {}\n",
    "    for file in files:\n",
    "        if \"txt\" in file:\n",
    "            f = open(\"query_sum/\" + folders[i] + '/' + file, 'r')\n",
    "            sents = \"\".join(f.readlines()).split(\"\\n\")\n",
    "            summary[file[:-4]] = {}\n",
    "            for j in range(len(sents)-1) :\n",
    "                summary[file[:-4]][folders[i] + \"_\" + str(j+1)] = sents[j]\n",
    "            f.close()\n",
    "    frame = pd.DataFrame.from_dict(summary, orient='index')\n",
    "    frame.reset_index(level=0, inplace=True)\n",
    "    frame.rename(columns={'index':'neighbourhood'}, inplace=True)\n",
    "    summ = pd.merge(dd[['neighbourhood']], frame, how='left', on='neighbourhood').drop(['neighbourhood'], axis = 1)\n",
    "    summs.append(summ)\n",
    "    \n",
    "files = os.listdir(\"cluster_sum\")\n",
    "summary = {}\n",
    "for file in files:\n",
    "    if \"txt\" in file:\n",
    "        f = open(\"cluster_sum/\" + file, 'r')\n",
    "        summary[file[:-4]] = \" \".join(\"\".join(f.readlines()).split(\"\\n\"))\n",
    "        f.close()\n",
    "frame = pd.DataFrame.from_dict(summary, orient='index', columns = [\"cluster_sum\"])\n",
    "frame.reset_index(level=0, inplace=True)\n",
    "frame.rename(columns={'index':'neighbourhood'}, inplace=True)\n",
    "cluster_summ = pd.merge(dd, frame, how='left', on='neighbourhood')[['neighbourhood', \"cluster_sum\"]]\n",
    "\n",
    "\n",
    "result = pd.concat([cluster_summ]+summs, axis=1)\n",
    "for i in range(result.shape[0]):\n",
    "    for j in range(result.shape[1]):\n",
    "        try:\n",
    "            if len(result.iloc[i,j]) > 2000:\n",
    "                #print(\"*\")\n",
    "                result.iloc[i,j] = float('NaN')\n",
    "        except:\n",
    "            continue\n",
    "result.to_csv(\"summary2.csv\")"
   ]
  }
 ],
 "metadata": {
  "kernelspec": {
   "display_name": "Python 3",
   "language": "python",
   "name": "python3"
  },
  "language_info": {
   "codemirror_mode": {
    "name": "ipython",
    "version": 3
   },
   "file_extension": ".py",
   "mimetype": "text/x-python",
   "name": "python",
   "nbconvert_exporter": "python",
   "pygments_lexer": "ipython3",
   "version": "3.6.5"
  }
 },
 "nbformat": 4,
 "nbformat_minor": 2
}
