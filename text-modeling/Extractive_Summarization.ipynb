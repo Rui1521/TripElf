{
 "cells": [
  {
   "cell_type": "code",
   "execution_count": 18,
   "metadata": {},
   "outputs": [
    {
     "name": "stderr",
     "output_type": "stream",
     "text": [
      "04/04/2019 21:13:39 - INFO - allennlp.commands.elmo -   Initializing ELMo.\n"
     ]
    }
   ],
   "source": [
    "import pandas as pd\n",
    "from collections import Counter\n",
    "import numpy as np\n",
    "import nltk\n",
    "from nltk.tokenize import word_tokenize, sent_tokenize\n",
    "from nltk.corpus import stopwords\n",
    "from nltk.stem import PorterStemmer\n",
    "from sklearn.decomposition import LatentDirichletAllocation as LDA\n",
    "from nltk.stem import WordNetLemmatizer\n",
    "from nltk.stem.lancaster import LancasterStemmer\n",
    "from sklearn.feature_extraction.text import TfidfVectorizer\n",
    "import warnings\n",
    "import torch\n",
    "from allennlp.commands.elmo import ElmoEmbedder\n",
    "import scipy\n",
    "import random\n",
    "from sklearn.metrics.pairwise import cosine_similarity\n",
    "from sklearn.decomposition import LatentDirichletAllocation\n",
    "from sklearn.cluster import KMeans\n",
    "import os\n",
    "from nltk.sentiment.vader import SentimentIntensityAnalyzer as SIA\n",
    "warnings.filterwarnings(\"ignore\")\n",
    "import spacy\n",
    "from spacy import displacy\n",
    "from collections import Counter\n",
    "import en_core_web_sm\n",
    "from bs4 import BeautifulSoup\n",
    "import string, unicodedata\n",
    "import re\n",
    "from nltk.corpus import wordnet\n",
    "import os\n",
    "from langdetect import detect\n",
    "from sklearn.feature_extraction.text import CountVectorizer\n",
    "from preprocess import sent_filter, prep_text\n",
    "from summarization_methods import KL_sum, cluster_sum, query_sum"
   ]
  },
  {
   "cell_type": "markdown",
   "metadata": {},
   "source": [
    "## 1. Data Preprocessing"
   ]
  },
  {
   "cell_type": "markdown",
   "metadata": {},
   "source": [
    "### 1.1 Read data and merge tables"
   ]
  },
  {
   "cell_type": "code",
   "execution_count": 3,
   "metadata": {},
   "outputs": [],
   "source": [
    "# Read Data and Merge Three Tables\n",
    "reviews =  pd.read_csv(\"Data/reviews.csv\")\n",
    "listing = pd.read_csv(\"Data/listings.csv\")\n",
    "neighbors = pd.read_csv(\"Data/neighbourhoods.csv\")\n",
    "listing = listing.rename(columns={\"id\": \"listing_id\"})\n",
    "merged = pd.merge(listing, reviews, on = \"listing_id\", how =\"inner\")\n",
    "data = pd.merge(merged, neighbors, on = \"neighbourhood\", how =\"left\")[['neighbourhood','neighbourhood_group','comments']]\n",
    "data = data.dropna()"
   ]
  },
  {
   "cell_type": "markdown",
   "metadata": {},
   "source": [
    "### 1.2 Filter sentences"
   ]
  },
  {
   "cell_type": "code",
   "execution_count": null,
   "metadata": {},
   "outputs": [],
   "source": [
    "neighbourhoods = sorted(list(set(data[\"neighbourhood\"])))\n",
    "for ngb in neighbourhoods:\n",
    "    count = 0\n",
    "    comments = sent_tokenize(\" \".join(map(str, list(data[data[\"neighbourhood\"] == ngb][\"comments\"]))))\n",
    "    raw_sent = []\n",
    "    file = open(\"Prep_reviews/\" + ngb + \".txt\",\"w\") \n",
    "    for item in comments:\n",
    "        if count%5000 == 0:\n",
    "            print(count, len(comments))\n",
    "        if len(item) > 10 and len(item.split()) > 4:\n",
    "            try:\n",
    "                if sent_filter(item):\n",
    "                    #print(item)\n",
    "                    raw_sent.append(item) \n",
    "                    file.write(item + \"\\n\")\n",
    "            except:\n",
    "                continue\n",
    "        count += 1\n",
    "    file.close() "
   ]
  },
  {
   "cell_type": "markdown",
   "metadata": {},
   "source": [
    "### 1.3  text preprocessing"
   ]
  },
  {
   "cell_type": "code",
   "execution_count": 5,
   "metadata": {},
   "outputs": [],
   "source": [
    "reviews = {}\n",
    "files = os.listdir(\"prep_reviews\")\n",
    "for file in files:\n",
    "    if \"txt\" in file:\n",
    "        f = open('prep_reviews/' + file, 'r')\n",
    "        reviews[file[:-4]] = \"\".join(f.readlines()).split(\"\\n\")\n",
    "        f.close()\n",
    "keys = sorted(list(reviews.keys()))"
   ]
  },
  {
   "cell_type": "markdown",
   "metadata": {},
   "source": [
    "## 2. Sentiment Analysis"
   ]
  },
  {
   "cell_type": "code",
   "execution_count": 16,
   "metadata": {},
   "outputs": [],
   "source": [
    "sia = SIA()\n",
    "neg_sents = {}\n",
    "for item in keys:\n",
    "    scores = []\n",
    "    for sent in reviews[item]:\n",
    "        pol_score = sia.polarity_scores(sent)\n",
    "        scores.append(pol_score['compound'])\n",
    "        neg_sents[item] = np.array(reviews[item])[np.argsort(scores)[:10]]"
   ]
  },
  {
   "cell_type": "code",
   "execution_count": 15,
   "metadata": {},
   "outputs": [
    {
     "data": {
      "text/plain": [
       "array(['Steep stairs to bedrooms and basement but only a problem if you have problems climbing stairs.',\n",
       "       'It was very dirty and smelled really bad.',\n",
       "       'Absolutely no complaints, you cannot ask for a better host.',\n",
       "       'NO noise at all, u can sleep with no problems.',\n",
       "       'Nothing like a smiling beautiful little baby to make you feel at home.'],\n",
       "      dtype='<U220')"
      ]
     },
     "execution_count": 15,
     "metadata": {},
     "output_type": "execute_result"
    }
   ],
   "source": [
    "neg_sents[keys[2]]"
   ]
  },
  {
   "cell_type": "markdown",
   "metadata": {},
   "source": [
    "## 3. Summarization"
   ]
  },
  {
   "cell_type": "markdown",
   "metadata": {},
   "source": [
    "### 3.1 Cluster Sum"
   ]
  },
  {
   "cell_type": "code",
   "execution_count": null,
   "metadata": {},
   "outputs": [],
   "source": [
    "for item in keys:\n",
    "    file = open(\"Cluster_Sum/\" +  item + \".txt\",\"w\") \n",
    "    if len(reviews[item]) > 6:\n",
    "        raw_sents, new_sents = prep_text(reviews[item], stopwords_removal = False)\n",
    "        #print(item)\n",
    "        summ = cluster_sum(raw_sents, new_sents, 6)\n",
    "        for sent in summ:\n",
    "            file.write(sent + \"\\n\")\n",
    "    else:\n",
    "        for sent in raw_sents:\n",
    "            file.write(sent + \"\\n\")\n",
    "    file.close() "
   ]
  },
  {
   "cell_type": "markdown",
   "metadata": {},
   "source": [
    "### 2.3 Query-Based Model"
   ]
  },
  {
   "cell_type": "code",
   "execution_count": 11,
   "metadata": {},
   "outputs": [],
   "source": [
    "query = [ \"expense\", \"noise\", \"host\", \"entertainment\", \"shopping\", \"nightlife\", \"restaurant\"]\n",
    "for item in keys:\n",
    "    if len(reviews[item]) > 6:\n",
    "        raw_sents, new_sents = prep_text(reviews[item], stopwords_removal = False)\n",
    "        query_dict = query_sum(raw_sents, new_sents, querys, 5)\n",
    "        for i in range(len(querys)):\n",
    "            print(item, querys[i])\n",
    "            file = open(\"query_sum/\" + querys[i] + \"/\" +item + \".txt\",\"w\") \n",
    "            for sent in query_dict[querys[i]]:\n",
    "                file.write(sent + \"\\n\")\n",
    "            file.close() "
   ]
  },
  {
   "cell_type": "markdown",
   "metadata": {},
   "source": [
    "### 3. Top Key Words"
   ]
  },
  {
   "cell_type": "code",
   "execution_count": 52,
   "metadata": {
    "scrolled": true
   },
   "outputs": [],
   "source": [
    "topic_words = ['noise', 'safety', 'entertainment','restaurant', 'host', 'expense', 'shopping', 'nightlife', 'transit']\n",
    "def get_nyms(word):\n",
    "        synonyms = []\n",
    "        antonyms = []\n",
    "\n",
    "        for syn in wordnet.synsets(word):\n",
    "            for l in syn.lemmas():\n",
    "                synonyms.append(l.name())\n",
    "                if l.antonyms():\n",
    "                    antonyms.append(l.antonyms()[0].name())\n",
    "        nyms = list(set(synonyms)) + list(set(antonyms))\n",
    "        return nyms\n",
    "    \n",
    "def nyms_freq(sents):\n",
    "    words_freq = {word: 0 for word in topic_words}\n",
    "    cv = CountVectorizer(max_df=0.85,stop_words=stopwords.words('english'))\n",
    "    cv.fit(sents)\n",
    "    count = cv.vocabulary_\n",
    "    for word in topic_words:\n",
    "        for nym in get_nyms(word):\n",
    "            if nym in count.keys():\n",
    "                words_freq[word] += count[nym]\n",
    "    summ = np.sum(list(words_freq.values()))\n",
    "    if summ > 0 :\n",
    "        for item in words_freq.keys():\n",
    "            words_freq[item] = round(words_freq[item]/summ,3)\n",
    "        return words_freq    \n",
    "    return float('NaN')"
   ]
  },
  {
   "cell_type": "code",
   "execution_count": 40,
   "metadata": {},
   "outputs": [],
   "source": [
    "key_words = {}\n",
    "for item in keys:\n",
    "    if len(reviews[item]) > 1:\n",
    "        key_words[item] = nyms_freq(reviews[item])   "
   ]
  },
  {
   "cell_type": "code",
   "execution_count": 53,
   "metadata": {},
   "outputs": [],
   "source": [
    "dd = pd.read_csv(\"restaurants.csv\")\n",
    "word_props = pd.DataFrame.from_dict(key_words).transpose()\n",
    "word_props.reset_index(level=0, inplace=True)\n",
    "word_props.rename(columns={'index':'neighbourhood'}, inplace=True)\n",
    "word_props = pd.merge(dd, word_props, how='left', on='neighbourhood')[['neighbourhood'] + topic_words]\n",
    "word_props.to_csv(\"words_prop.csv\")"
   ]
  }
 ],
 "metadata": {
  "kernelspec": {
   "display_name": "Python 3",
   "language": "python",
   "name": "python3"
  },
  "language_info": {
   "codemirror_mode": {
    "name": "ipython",
    "version": 3
   },
   "file_extension": ".py",
   "mimetype": "text/x-python",
   "name": "python",
   "nbconvert_exporter": "python",
   "pygments_lexer": "ipython3",
   "version": "3.6.5"
  }
 },
 "nbformat": 4,
 "nbformat_minor": 1
}
