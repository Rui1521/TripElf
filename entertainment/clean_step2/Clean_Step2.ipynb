{
 "cells": [
  {
   "cell_type": "code",
   "execution_count": null,
   "metadata": {},
   "outputs": [],
   "source": [
    "import numpy as np\n",
    "import pandas as pd"
   ]
  },
  {
   "cell_type": "code",
   "execution_count": null,
   "metadata": {},
   "outputs": [],
   "source": [
    "zipcode_nyc = pd.read_csv(\"zipcode_nyc.csv\")"
   ]
  },
  {
   "cell_type": "code",
   "execution_count": null,
   "metadata": {},
   "outputs": [],
   "source": [
    "zipcode_nyc.shape"
   ]
  },
  {
   "cell_type": "markdown",
   "metadata": {},
   "source": [
    "# Shopping"
   ]
  },
  {
   "cell_type": "code",
   "execution_count": null,
   "metadata": {},
   "outputs": [],
   "source": [
    "shopping_s1 = pd.read_csv(\"shopping_no_dup_step1.csv\")\n",
    "shopping_s2 = pd.read_csv(\"shopping_step2.csv\")"
   ]
  },
  {
   "cell_type": "code",
   "execution_count": null,
   "metadata": {},
   "outputs": [],
   "source": [
    "shopping = shopping_s1.join(shopping_s2.set_index('yelpPage'), on='yelpPage')\n",
    "\n",
    "shopping[\"exactZipcode\"].replace(r'^([^0-9]*)$', np.nan, regex=True, inplace=True)\n",
    "shopping[\"exactZipcode\"].replace(np.nan, \"-1\", inplace=True)\n",
    "shopping[\"rating\"].replace(np.nan, \"-1\", inplace=True)\n",
    "shopping[\"reviewCount\"].replace(np.nan, \"-1\", inplace=True)\n",
    "shopping[\"exactZipcode\"] = shopping[\"exactZipcode\"].astype(\"int64\")\n",
    "shopping[\"rating\"] = shopping[\"rating\"].astype(\"int64\")\n",
    "shopping[\"reviewCount\"] = shopping[\"reviewCount\"].astype(\"int64\")\n",
    "\n",
    "shopping = shopping.join(zipcode_nyc.set_index('zipcodeNYC'), on='exactZipcode', how='inner')\n",
    "\n",
    "shopping.rename(index=str, columns={\"zipcode\": \"searchZipcode\"}, inplace=True)\n",
    "shopping[\"bizID\"] = shopping[\"yelpPage\"].str.split(\"/\", expand=True)[4]\n",
    "shopping.drop([\"yelpPage\"], axis=1, inplace=True)\n",
    "shopping = shopping[['bizID', 'title', 'categories', 'priceRange', 'dollarPrice', 'rating', 'reviewCount', \\\n",
    "                     'address', 'district', 'searchZipcode', 'exactZipcode', 'latitude', 'longitude',  \\\n",
    "                     'phone', 'img']]"
   ]
  },
  {
   "cell_type": "code",
   "execution_count": null,
   "metadata": {},
   "outputs": [],
   "source": [
    "shopping.shape"
   ]
  },
  {
   "cell_type": "code",
   "execution_count": null,
   "metadata": {},
   "outputs": [],
   "source": [
    "shopping.head()"
   ]
  },
  {
   "cell_type": "markdown",
   "metadata": {},
   "source": [
    "# Nightlife"
   ]
  },
  {
   "cell_type": "code",
   "execution_count": null,
   "metadata": {},
   "outputs": [],
   "source": [
    "nightlife_s1 = pd.read_csv(\"nightlife_no_dup_step1.csv\")\n",
    "nightlife_s2 = pd.read_csv(\"nightlife_step2.csv\")"
   ]
  },
  {
   "cell_type": "code",
   "execution_count": null,
   "metadata": {},
   "outputs": [],
   "source": [
    "nightlife = nightlife_s1.join(nightlife_s2.set_index('yelpPage'), on='yelpPage')\n",
    "\n",
    "nightlife[\"exactZipcode\"].replace(r'^([^0-9]*)$', np.nan, regex=True, inplace=True)\n",
    "nightlife[\"exactZipcode\"].replace(np.nan, \"-1\", inplace=True)\n",
    "nightlife[\"rating\"].replace(np.nan, \"-1\", inplace=True)\n",
    "nightlife[\"reviewCount\"].replace(np.nan, \"-1\", inplace=True)\n",
    "nightlife[\"exactZipcode\"] = nightlife[\"exactZipcode\"].astype(\"int64\")\n",
    "nightlife[\"rating\"] = nightlife[\"rating\"].astype(\"int64\")\n",
    "nightlife[\"reviewCount\"] = nightlife[\"reviewCount\"].astype(\"int64\")\n",
    "\n",
    "nightlife = nightlife.join(zipcode_nyc.set_index('zipcodeNYC'), on='exactZipcode', how='inner')\n",
    "\n",
    "nightlife.rename(index=str, columns={\"zipcode\": \"searchZipcode\"}, inplace=True)\n",
    "nightlife[\"bizID\"] = nightlife[\"yelpPage\"].str.split(\"/\", expand=True)[4]\n",
    "nightlife.drop([\"yelpPage\"], axis=1, inplace=True)\n",
    "nightlife = nightlife[['bizID', 'title', 'categories', 'priceRange', 'dollarPrice', 'rating', 'reviewCount', \\\n",
    "                       'address', 'district', 'searchZipcode', 'exactZipcode', 'latitude', 'longitude',  \\\n",
    "                       'phone', 'img']]"
   ]
  },
  {
   "cell_type": "code",
   "execution_count": null,
   "metadata": {},
   "outputs": [],
   "source": [
    "nightlife.shape"
   ]
  },
  {
   "cell_type": "code",
   "execution_count": null,
   "metadata": {},
   "outputs": [],
   "source": [
    "nightlife.head()"
   ]
  },
  {
   "cell_type": "markdown",
   "metadata": {},
   "source": [
    "# Restaurants"
   ]
  },
  {
   "cell_type": "code",
   "execution_count": null,
   "metadata": {},
   "outputs": [],
   "source": [
    "restaurants_s1 = pd.read_csv(\"restaurants_no_dup_step1.csv\")\n",
    "restaurants_s2 = pd.read_csv(\"restaurants_step2.csv\")"
   ]
  },
  {
   "cell_type": "code",
   "execution_count": null,
   "metadata": {},
   "outputs": [],
   "source": [
    "restaurants = restaurants_s1.join(restaurants_s2.set_index('yelpPage'), on='yelpPage')\n",
    "\n",
    "restaurants[\"exactZipcode\"].replace(r'^([^0-9]*)$', np.nan, regex=True, inplace=True)\n",
    "restaurants[\"exactZipcode\"].replace(np.nan, \"-1\", inplace=True)\n",
    "restaurants[\"rating\"].replace(np.nan, \"-1\", inplace=True)\n",
    "restaurants[\"reviewCount\"].replace(np.nan, \"-1\", inplace=True)\n",
    "restaurants[\"exactZipcode\"] = restaurants[\"exactZipcode\"].astype(\"int64\")\n",
    "restaurants[\"rating\"] = restaurants[\"rating\"].astype(\"int64\")\n",
    "restaurants[\"reviewCount\"] = restaurants[\"reviewCount\"].astype(\"int64\")\n",
    "\n",
    "restaurants = restaurants.join(zipcode_nyc.set_index('zipcodeNYC'), on='exactZipcode', how='inner')\n",
    "\n",
    "restaurants.rename(index=str, columns={\"zipcode\": \"searchZipcode\"}, inplace=True)\n",
    "restaurants[\"bizID\"] = restaurants[\"yelpPage\"].str.split(\"/\", expand=True)[4]\n",
    "restaurants.drop([\"yelpPage\"], axis=1, inplace=True)\n",
    "restaurants = restaurants[['bizID', 'title', 'categories', 'priceRange', 'dollarPrice', 'rating', 'reviewCount', \\\n",
    "                           'address', 'district', 'searchZipcode', 'exactZipcode', 'latitude', 'longitude',  \\\n",
    "                           'phone', 'img']]"
   ]
  },
  {
   "cell_type": "code",
   "execution_count": null,
   "metadata": {},
   "outputs": [],
   "source": [
    "restaurants.shape"
   ]
  },
  {
   "cell_type": "code",
   "execution_count": null,
   "metadata": {},
   "outputs": [],
   "source": [
    "restaurants.head()"
   ]
  },
  {
   "cell_type": "markdown",
   "metadata": {},
   "source": [
    "# Output"
   ]
  },
  {
   "cell_type": "code",
   "execution_count": null,
   "metadata": {},
   "outputs": [],
   "source": [
    "shopping.to_csv(\"shopping_nyc.csv\", index=False)\n",
    "nightlife.to_csv(\"nightlife_nyc.csv\", index=False)\n",
    "restaurants.to_csv(\"restaurants_nyc.csv\", index=False)"
   ]
  }
 ],
 "metadata": {
  "kernelspec": {
   "display_name": "Python 3",
   "language": "python",
   "name": "python3"
  },
  "language_info": {
   "codemirror_mode": {
    "name": "ipython",
    "version": 3
   },
   "file_extension": ".py",
   "mimetype": "text/x-python",
   "name": "python",
   "nbconvert_exporter": "python",
   "pygments_lexer": "ipython3",
   "version": "3.6.7"
  }
 },
 "nbformat": 4,
 "nbformat_minor": 2
}
