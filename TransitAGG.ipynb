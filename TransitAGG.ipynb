{
 "cells": [
  {
   "cell_type": "markdown",
   "metadata": {},
   "source": [
    "# NYC Transportation Analysis"
   ]
  },
  {
   "cell_type": "markdown",
   "metadata": {},
   "source": [
    "## 1 Introduction"
   ]
  },
  {
   "cell_type": "markdown",
   "metadata": {},
   "source": [
    "This is an exploratory data analysis for Airbnb hosts information from 2016 to 2018. The results shown in this notebook will be used for building TripElf, an interactive map application. We want to discover the number of bus stops and subway entrances within New York City neighbourhoods."
   ]
  },
  {
   "cell_type": "markdown",
   "metadata": {},
   "source": [
    "### 1.1 Load Libraries"
   ]
  },
  {
   "cell_type": "code",
   "execution_count": 2,
   "metadata": {},
   "outputs": [],
   "source": [
    "# settings\n",
    "import pandas as pd\n",
    "pd.set_option('display.max_rows', 500)\n",
    "pd.set_option('display.max_columns', 500)\n",
    "pd.set_option('display.width', 1000)\n",
    "\n",
    "import numpy as np\n",
    "import matplotlib.pyplot as plt\n",
    "%matplotlib inline\n",
    "%config InlineBackend.figure_format = 'retina'\n",
    "plt.rcParams['figure.figsize'] = (20.0, 10.0)\n",
    "\n",
    "import geopandas as gpd\n",
    "import warnings\n",
    "warnings.filterwarnings(\"ignore\")\n",
    "from shapely.geometry import Point, Polygon\n",
    "import seaborn as sns"
   ]
  },
  {
   "cell_type": "markdown",
   "metadata": {},
   "source": [
    "### 1.2 Load Dataset"
   ]
  },
  {
   "cell_type": "code",
   "execution_count": 5,
   "metadata": {},
   "outputs": [
    {
     "data": {
      "text/html": [
       "<div>\n",
       "<style scoped>\n",
       "    .dataframe tbody tr th:only-of-type {\n",
       "        vertical-align: middle;\n",
       "    }\n",
       "\n",
       "    .dataframe tbody tr th {\n",
       "        vertical-align: top;\n",
       "    }\n",
       "\n",
       "    .dataframe thead th {\n",
       "        text-align: right;\n",
       "    }\n",
       "</style>\n",
       "<table border=\"1\" class=\"dataframe\">\n",
       "  <thead>\n",
       "    <tr style=\"text-align: right;\">\n",
       "      <th></th>\n",
       "      <th>CounDist</th>\n",
       "      <th>BoroCD</th>\n",
       "      <th>AssemDist</th>\n",
       "      <th>the_geom</th>\n",
       "      <th>CongDist</th>\n",
       "      <th>StSenDist</th>\n",
       "      <th>SHELTER_ID</th>\n",
       "      <th>LOCATION</th>\n",
       "      <th>AT_BETWEEN</th>\n",
       "      <th>LONGITUDE</th>\n",
       "      <th>LATITUDE</th>\n",
       "      <th>AssetID</th>\n",
       "      <th>BoroCode</th>\n",
       "      <th>BoroName</th>\n",
       "      <th>Street</th>\n",
       "      <th>SegmentID</th>\n",
       "      <th>PhysicalID</th>\n",
       "      <th>NODEID</th>\n",
       "    </tr>\n",
       "  </thead>\n",
       "  <tbody>\n",
       "    <tr>\n",
       "      <th>0</th>\n",
       "      <td>34</td>\n",
       "      <td>301</td>\n",
       "      <td>53</td>\n",
       "      <td>POINT (-73.94783099999995 40.70681200000007)</td>\n",
       "      <td>7</td>\n",
       "      <td>18</td>\n",
       "      <td>BR0003</td>\n",
       "      <td>MONTROSE AV</td>\n",
       "      <td>LORIMER ST</td>\n",
       "      <td>-73.947831</td>\n",
       "      <td>40.706812</td>\n",
       "      <td>1</td>\n",
       "      <td>3</td>\n",
       "      <td>Brooklyn</td>\n",
       "      <td>MONTROSE AVENUE</td>\n",
       "      <td>31244.0</td>\n",
       "      <td>91546</td>\n",
       "      <td>0</td>\n",
       "    </tr>\n",
       "    <tr>\n",
       "      <th>1</th>\n",
       "      <td>34</td>\n",
       "      <td>301</td>\n",
       "      <td>50</td>\n",
       "      <td>POINT (-73.94516199999998 40.71909700000003)</td>\n",
       "      <td>12</td>\n",
       "      <td>18</td>\n",
       "      <td>BR0014</td>\n",
       "      <td>GRAHAM AV</td>\n",
       "      <td>HERBERT ST</td>\n",
       "      <td>-73.945162</td>\n",
       "      <td>40.719097</td>\n",
       "      <td>2</td>\n",
       "      <td>3</td>\n",
       "      <td>Brooklyn</td>\n",
       "      <td>GRAHAM AVENUE</td>\n",
       "      <td>35598.0</td>\n",
       "      <td>45754</td>\n",
       "      <td>0</td>\n",
       "    </tr>\n",
       "    <tr>\n",
       "      <th>2</th>\n",
       "      <td>34</td>\n",
       "      <td>301</td>\n",
       "      <td>53</td>\n",
       "      <td>POINT (-73.94578299999995 40.702976000000035)</td>\n",
       "      <td>7</td>\n",
       "      <td>18</td>\n",
       "      <td>BR0026</td>\n",
       "      <td>BROADWAY</td>\n",
       "      <td>LEONARD ST</td>\n",
       "      <td>-73.945783</td>\n",
       "      <td>40.702976</td>\n",
       "      <td>3</td>\n",
       "      <td>3</td>\n",
       "      <td>Brooklyn</td>\n",
       "      <td>BROADWAY</td>\n",
       "      <td>31350.0</td>\n",
       "      <td>43972</td>\n",
       "      <td>19920</td>\n",
       "    </tr>\n",
       "    <tr>\n",
       "      <th>3</th>\n",
       "      <td>34</td>\n",
       "      <td>301</td>\n",
       "      <td>50</td>\n",
       "      <td>POINT (-73.94083599999993 40.72019500000005)</td>\n",
       "      <td>12</td>\n",
       "      <td>18</td>\n",
       "      <td>BR0028</td>\n",
       "      <td>KINGSLAND AV</td>\n",
       "      <td>HERBERT ST</td>\n",
       "      <td>-73.940836</td>\n",
       "      <td>40.720195</td>\n",
       "      <td>4</td>\n",
       "      <td>3</td>\n",
       "      <td>Brooklyn</td>\n",
       "      <td>KINGSLAND AVENUE</td>\n",
       "      <td>65844.0</td>\n",
       "      <td>48893</td>\n",
       "      <td>40551</td>\n",
       "    </tr>\n",
       "    <tr>\n",
       "      <th>4</th>\n",
       "      <td>35</td>\n",
       "      <td>302</td>\n",
       "      <td>50</td>\n",
       "      <td>POINT (-73.96979499999998 40.69344000000007)</td>\n",
       "      <td>8</td>\n",
       "      <td>25</td>\n",
       "      <td>BR0040</td>\n",
       "      <td>VANDERBILT AV</td>\n",
       "      <td>MYRTLE AV</td>\n",
       "      <td>-73.969795</td>\n",
       "      <td>40.693440</td>\n",
       "      <td>5</td>\n",
       "      <td>3</td>\n",
       "      <td>Brooklyn</td>\n",
       "      <td>VANDERBILT AVENUE</td>\n",
       "      <td>30196.0</td>\n",
       "      <td>60512</td>\n",
       "      <td>0</td>\n",
       "    </tr>\n",
       "  </tbody>\n",
       "</table>\n",
       "</div>"
      ],
      "text/plain": [
       "   CounDist  BoroCD  AssemDist                                       the_geom  CongDist  StSenDist SHELTER_ID       LOCATION  AT_BETWEEN  LONGITUDE   LATITUDE  AssetID  BoroCode  BoroName             Street  SegmentID  PhysicalID  NODEID\n",
       "0        34     301         53   POINT (-73.94783099999995 40.70681200000007)         7         18     BR0003    MONTROSE AV  LORIMER ST -73.947831  40.706812        1         3  Brooklyn    MONTROSE AVENUE    31244.0       91546       0\n",
       "1        34     301         50   POINT (-73.94516199999998 40.71909700000003)        12         18     BR0014      GRAHAM AV  HERBERT ST -73.945162  40.719097        2         3  Brooklyn      GRAHAM AVENUE    35598.0       45754       0\n",
       "2        34     301         53  POINT (-73.94578299999995 40.702976000000035)         7         18     BR0026       BROADWAY  LEONARD ST -73.945783  40.702976        3         3  Brooklyn           BROADWAY    31350.0       43972   19920\n",
       "3        34     301         50   POINT (-73.94083599999993 40.72019500000005)        12         18     BR0028   KINGSLAND AV  HERBERT ST -73.940836  40.720195        4         3  Brooklyn   KINGSLAND AVENUE    65844.0       48893   40551\n",
       "4        35     302         50   POINT (-73.96979499999998 40.69344000000007)         8         25     BR0040  VANDERBILT AV   MYRTLE AV -73.969795  40.693440        5         3  Brooklyn  VANDERBILT AVENUE    30196.0       60512       0"
      ]
     },
     "execution_count": 5,
     "metadata": {},
     "output_type": "execute_result"
    }
   ],
   "source": [
    "busstop = pd.read_csv(\"busstop.csv\")\n",
    "busstop.head()"
   ]
  },
  {
   "cell_type": "code",
   "execution_count": 4,
   "metadata": {},
   "outputs": [
    {
     "data": {
      "text/html": [
       "<div>\n",
       "<style scoped>\n",
       "    .dataframe tbody tr th:only-of-type {\n",
       "        vertical-align: middle;\n",
       "    }\n",
       "\n",
       "    .dataframe tbody tr th {\n",
       "        vertical-align: top;\n",
       "    }\n",
       "\n",
       "    .dataframe thead th {\n",
       "        text-align: right;\n",
       "    }\n",
       "</style>\n",
       "<table border=\"1\" class=\"dataframe\">\n",
       "  <thead>\n",
       "    <tr style=\"text-align: right;\">\n",
       "      <th></th>\n",
       "      <th>OBJECTID</th>\n",
       "      <th>URL</th>\n",
       "      <th>NAME</th>\n",
       "      <th>the_geom</th>\n",
       "      <th>LINE</th>\n",
       "    </tr>\n",
       "  </thead>\n",
       "  <tbody>\n",
       "    <tr>\n",
       "      <th>0</th>\n",
       "      <td>1734</td>\n",
       "      <td>http://web.mta.info/nyct/service/</td>\n",
       "      <td>Birchall Ave &amp; Sagamore St at NW corner</td>\n",
       "      <td>POINT (-73.86835600032798 40.84916900104506)</td>\n",
       "      <td>2-5</td>\n",
       "    </tr>\n",
       "    <tr>\n",
       "      <th>1</th>\n",
       "      <td>1735</td>\n",
       "      <td>http://web.mta.info/nyct/service/</td>\n",
       "      <td>Birchall Ave &amp; Sagamore St at NE corner</td>\n",
       "      <td>POINT (-73.86821300022677 40.84912800131844)</td>\n",
       "      <td>2-5</td>\n",
       "    </tr>\n",
       "    <tr>\n",
       "      <th>2</th>\n",
       "      <td>1736</td>\n",
       "      <td>http://web.mta.info/nyct/service/</td>\n",
       "      <td>Morris Park Ave &amp; 180th St at NW corner</td>\n",
       "      <td>POINT (-73.87349900050798 40.84122300105249)</td>\n",
       "      <td>2-5</td>\n",
       "    </tr>\n",
       "    <tr>\n",
       "      <th>3</th>\n",
       "      <td>1737</td>\n",
       "      <td>http://web.mta.info/nyct/service/</td>\n",
       "      <td>Morris Park Ave &amp; 180th St at NW corner</td>\n",
       "      <td>POINT (-73.8728919997833 40.84145300067447)</td>\n",
       "      <td>2-5</td>\n",
       "    </tr>\n",
       "    <tr>\n",
       "      <th>4</th>\n",
       "      <td>1738</td>\n",
       "      <td>http://web.mta.info/nyct/service/</td>\n",
       "      <td>Boston Rd &amp; 178th St at SW corner</td>\n",
       "      <td>POINT (-73.87962300013866 40.84081500075867)</td>\n",
       "      <td>2-5</td>\n",
       "    </tr>\n",
       "  </tbody>\n",
       "</table>\n",
       "</div>"
      ],
      "text/plain": [
       "   OBJECTID                                URL                                     NAME                                      the_geom LINE\n",
       "0      1734  http://web.mta.info/nyct/service/  Birchall Ave & Sagamore St at NW corner  POINT (-73.86835600032798 40.84916900104506)  2-5\n",
       "1      1735  http://web.mta.info/nyct/service/  Birchall Ave & Sagamore St at NE corner  POINT (-73.86821300022677 40.84912800131844)  2-5\n",
       "2      1736  http://web.mta.info/nyct/service/  Morris Park Ave & 180th St at NW corner  POINT (-73.87349900050798 40.84122300105249)  2-5\n",
       "3      1737  http://web.mta.info/nyct/service/  Morris Park Ave & 180th St at NW corner   POINT (-73.8728919997833 40.84145300067447)  2-5\n",
       "4      1738  http://web.mta.info/nyct/service/        Boston Rd & 178th St at SW corner  POINT (-73.87962300013866 40.84081500075867)  2-5"
      ]
     },
     "execution_count": 4,
     "metadata": {},
     "output_type": "execute_result"
    }
   ],
   "source": [
    "subway = pd.read_csv(\"subway.csv\")\n",
    "subway.head()"
   ]
  },
  {
   "cell_type": "markdown",
   "metadata": {},
   "source": [
    "### 1.3 Dataset structure and content"
   ]
  },
  {
   "cell_type": "code",
   "execution_count": 10,
   "metadata": {},
   "outputs": [
    {
     "name": "stdout",
     "output_type": "stream",
     "text": [
      "Shape of the dataset:  (3428, 18)\n"
     ]
    },
    {
     "data": {
      "text/plain": [
       "CounDist        int64\n",
       "BoroCD          int64\n",
       "AssemDist       int64\n",
       "the_geom       object\n",
       "CongDist        int64\n",
       "StSenDist       int64\n",
       "SHELTER_ID     object\n",
       "LOCATION       object\n",
       "AT_BETWEEN     object\n",
       "LONGITUDE     float64\n",
       "LATITUDE      float64\n",
       "AssetID         int64\n",
       "BoroCode        int64\n",
       "BoroName       object\n",
       "Street         object\n",
       "SegmentID     float64\n",
       "PhysicalID      int64\n",
       "NODEID          int64\n",
       "dtype: object"
      ]
     },
     "execution_count": 10,
     "metadata": {},
     "output_type": "execute_result"
    }
   ],
   "source": [
    "# bus stop dataset\n",
    "print(\"Shape of the dataset: \", busstop.shape)"
   ]
  },
  {
   "cell_type": "code",
   "execution_count": 11,
   "metadata": {},
   "outputs": [
    {
     "data": {
      "text/plain": [
       "Index(['CounDist', 'BoroCD', 'AssemDist', 'the_geom', 'CongDist', 'StSenDist', 'SHELTER_ID', 'LOCATION', 'AT_BETWEEN', 'LONGITUDE', 'LATITUDE', 'AssetID', 'BoroCode', 'BoroName', 'Street', 'SegmentID', 'PhysicalID', 'NODEID'], dtype='object')"
      ]
     },
     "execution_count": 11,
     "metadata": {},
     "output_type": "execute_result"
    }
   ],
   "source": [
    "busstop.columns"
   ]
  },
  {
   "cell_type": "code",
   "execution_count": 12,
   "metadata": {},
   "outputs": [
    {
     "data": {
      "text/plain": [
       "CounDist        int64\n",
       "BoroCD          int64\n",
       "AssemDist       int64\n",
       "the_geom       object\n",
       "CongDist        int64\n",
       "StSenDist       int64\n",
       "SHELTER_ID     object\n",
       "LOCATION       object\n",
       "AT_BETWEEN     object\n",
       "LONGITUDE     float64\n",
       "LATITUDE      float64\n",
       "AssetID         int64\n",
       "BoroCode        int64\n",
       "BoroName       object\n",
       "Street         object\n",
       "SegmentID     float64\n",
       "PhysicalID      int64\n",
       "NODEID          int64\n",
       "dtype: object"
      ]
     },
     "execution_count": 12,
     "metadata": {},
     "output_type": "execute_result"
    }
   ],
   "source": [
    "busstop.dtypes"
   ]
  },
  {
   "cell_type": "code",
   "execution_count": 13,
   "metadata": {},
   "outputs": [
    {
     "name": "stdout",
     "output_type": "stream",
     "text": [
      "Shape of the dataset:  (3428, 18)\n"
     ]
    }
   ],
   "source": [
    "# subway\n",
    "print(\"Shape of the dataset: \", subway.shape)"
   ]
  },
  {
   "cell_type": "code",
   "execution_count": 14,
   "metadata": {},
   "outputs": [
    {
     "data": {
      "text/plain": [
       "Index(['OBJECTID', 'URL', 'NAME', 'the_geom', 'LINE'], dtype='object')"
      ]
     },
     "execution_count": 14,
     "metadata": {},
     "output_type": "execute_result"
    }
   ],
   "source": [
    "subway.columns"
   ]
  },
  {
   "cell_type": "code",
   "execution_count": 15,
   "metadata": {},
   "outputs": [
    {
     "data": {
      "text/plain": [
       "OBJECTID     int64\n",
       "URL         object\n",
       "NAME        object\n",
       "the_geom    object\n",
       "LINE        object\n",
       "dtype: object"
      ]
     },
     "execution_count": 15,
     "metadata": {},
     "output_type": "execute_result"
    }
   ],
   "source": [
    "subway.dtypes"
   ]
  },
  {
   "cell_type": "markdown",
   "metadata": {},
   "source": [
    "### 1.4 Missing Values"
   ]
  },
  {
   "cell_type": "code",
   "execution_count": 17,
   "metadata": {},
   "outputs": [
    {
     "name": "stdout",
     "output_type": "stream",
     "text": [
      "Number of rows of the dataset:  3428\n"
     ]
    },
    {
     "data": {
      "text/plain": [
       "CounDist      0\n",
       "BoroCD        0\n",
       "AssemDist     0\n",
       "the_geom      0\n",
       "CongDist      0\n",
       "StSenDist     0\n",
       "SHELTER_ID    0\n",
       "LOCATION      0\n",
       "AT_BETWEEN    0\n",
       "LONGITUDE     0\n",
       "LATITUDE      0\n",
       "AssetID       0\n",
       "BoroCode      0\n",
       "BoroName      0\n",
       "Street        4\n",
       "SegmentID     4\n",
       "PhysicalID    0\n",
       "NODEID        0\n",
       "dtype: int64"
      ]
     },
     "execution_count": 17,
     "metadata": {},
     "output_type": "execute_result"
    }
   ],
   "source": [
    "# bus stop\n",
    "print(\"Number of rows of the dataset: \", len(busstop))\n",
    "busstop.isnull().sum()"
   ]
  },
  {
   "cell_type": "code",
   "execution_count": 18,
   "metadata": {},
   "outputs": [
    {
     "name": "stdout",
     "output_type": "stream",
     "text": [
      "Number of rows of the dataset:  1928\n"
     ]
    },
    {
     "data": {
      "text/plain": [
       "OBJECTID     0\n",
       "URL          0\n",
       "NAME        29\n",
       "the_geom     0\n",
       "LINE         0\n",
       "dtype: int64"
      ]
     },
     "execution_count": 18,
     "metadata": {},
     "output_type": "execute_result"
    }
   ],
   "source": [
    "# subway\n",
    "print(\"Number of rows of the dataset: \", len(subway))\n",
    "subway.isnull().sum()"
   ]
  },
  {
   "cell_type": "markdown",
   "metadata": {},
   "source": [
    "## 2 Feature Aggregration"
   ]
  },
  {
   "cell_type": "code",
   "execution_count": 22,
   "metadata": {},
   "outputs": [],
   "source": [
    "# assign neighbourhood to point for busstop\n",
    "\n",
    "def append_neighborhood(df, geo_df):\n",
    "    # Create a list of Point objects\n",
    "    point_list = []\n",
    "    for idx, biz in df.iterrows():\n",
    "        point_list.append(Point(biz[\"LONGITUDE\"], biz[\"LATITUDE\"]))\n",
    "    \n",
    "    # Create a list of Polygon\n",
    "    polygon_list = list(geo_df[\"geometry\"])\n",
    "    \n",
    "    neighborhood_list = []\n",
    "    neighborhood_group_list = []\n",
    "    flag = True\n",
    "    for i, point in enumerate(point_list):\n",
    "        print(i, end='\\r', flush=True)\n",
    "        for j, polygon in enumerate(polygon_list):\n",
    "            if point.within(polygon):\n",
    "                neighborhood_list.append(neighbourhoods_geo.iloc[j][0])\n",
    "                neighborhood_group_list.append(neighbourhoods_geo.iloc[j][1])\n",
    "                break\n",
    "            if j == len(polygon_list) - 1:\n",
    "                neighborhood_list.append(None)\n",
    "                neighborhood_group_list.append(None)\n",
    "    \n",
    "    df[\"neighborhood\"] = neighborhood_list\n",
    "    df[\"neighborhood_group\"] = neighborhood_group_list\n",
    "    df = df[~df[\"neighborhood\"].isna()]\n",
    "    return df"
   ]
  },
  {
   "cell_type": "code",
   "execution_count": 25,
   "metadata": {},
   "outputs": [
    {
     "name": "stdout",
     "output_type": "stream",
     "text": [
      "3427\r"
     ]
    },
    {
     "data": {
      "text/html": [
       "<div>\n",
       "<style scoped>\n",
       "    .dataframe tbody tr th:only-of-type {\n",
       "        vertical-align: middle;\n",
       "    }\n",
       "\n",
       "    .dataframe tbody tr th {\n",
       "        vertical-align: top;\n",
       "    }\n",
       "\n",
       "    .dataframe thead th {\n",
       "        text-align: right;\n",
       "    }\n",
       "</style>\n",
       "<table border=\"1\" class=\"dataframe\">\n",
       "  <thead>\n",
       "    <tr style=\"text-align: right;\">\n",
       "      <th></th>\n",
       "      <th>CounDist</th>\n",
       "      <th>BoroCD</th>\n",
       "      <th>AssemDist</th>\n",
       "      <th>the_geom</th>\n",
       "      <th>CongDist</th>\n",
       "      <th>StSenDist</th>\n",
       "      <th>SHELTER_ID</th>\n",
       "      <th>LOCATION</th>\n",
       "      <th>AT_BETWEEN</th>\n",
       "      <th>LONGITUDE</th>\n",
       "      <th>LATITUDE</th>\n",
       "      <th>AssetID</th>\n",
       "      <th>BoroCode</th>\n",
       "      <th>BoroName</th>\n",
       "      <th>Street</th>\n",
       "      <th>SegmentID</th>\n",
       "      <th>PhysicalID</th>\n",
       "      <th>NODEID</th>\n",
       "      <th>neighborhood</th>\n",
       "      <th>neighborhood_group</th>\n",
       "    </tr>\n",
       "  </thead>\n",
       "  <tbody>\n",
       "    <tr>\n",
       "      <th>0</th>\n",
       "      <td>34</td>\n",
       "      <td>301</td>\n",
       "      <td>53</td>\n",
       "      <td>POINT (-73.94783099999995 40.70681200000007)</td>\n",
       "      <td>7</td>\n",
       "      <td>18</td>\n",
       "      <td>BR0003</td>\n",
       "      <td>MONTROSE AV</td>\n",
       "      <td>LORIMER ST</td>\n",
       "      <td>-73.947831</td>\n",
       "      <td>40.706812</td>\n",
       "      <td>1</td>\n",
       "      <td>3</td>\n",
       "      <td>Brooklyn</td>\n",
       "      <td>MONTROSE AVENUE</td>\n",
       "      <td>31244.0</td>\n",
       "      <td>91546</td>\n",
       "      <td>0</td>\n",
       "      <td>Williamsburg</td>\n",
       "      <td>Brooklyn</td>\n",
       "    </tr>\n",
       "    <tr>\n",
       "      <th>1</th>\n",
       "      <td>34</td>\n",
       "      <td>301</td>\n",
       "      <td>50</td>\n",
       "      <td>POINT (-73.94516199999998 40.71909700000003)</td>\n",
       "      <td>12</td>\n",
       "      <td>18</td>\n",
       "      <td>BR0014</td>\n",
       "      <td>GRAHAM AV</td>\n",
       "      <td>HERBERT ST</td>\n",
       "      <td>-73.945162</td>\n",
       "      <td>40.719097</td>\n",
       "      <td>2</td>\n",
       "      <td>3</td>\n",
       "      <td>Brooklyn</td>\n",
       "      <td>GRAHAM AVENUE</td>\n",
       "      <td>35598.0</td>\n",
       "      <td>45754</td>\n",
       "      <td>0</td>\n",
       "      <td>Williamsburg</td>\n",
       "      <td>Brooklyn</td>\n",
       "    </tr>\n",
       "    <tr>\n",
       "      <th>2</th>\n",
       "      <td>34</td>\n",
       "      <td>301</td>\n",
       "      <td>53</td>\n",
       "      <td>POINT (-73.94578299999995 40.702976000000035)</td>\n",
       "      <td>7</td>\n",
       "      <td>18</td>\n",
       "      <td>BR0026</td>\n",
       "      <td>BROADWAY</td>\n",
       "      <td>LEONARD ST</td>\n",
       "      <td>-73.945783</td>\n",
       "      <td>40.702976</td>\n",
       "      <td>3</td>\n",
       "      <td>3</td>\n",
       "      <td>Brooklyn</td>\n",
       "      <td>BROADWAY</td>\n",
       "      <td>31350.0</td>\n",
       "      <td>43972</td>\n",
       "      <td>19920</td>\n",
       "      <td>Williamsburg</td>\n",
       "      <td>Brooklyn</td>\n",
       "    </tr>\n",
       "    <tr>\n",
       "      <th>3</th>\n",
       "      <td>34</td>\n",
       "      <td>301</td>\n",
       "      <td>50</td>\n",
       "      <td>POINT (-73.94083599999993 40.72019500000005)</td>\n",
       "      <td>12</td>\n",
       "      <td>18</td>\n",
       "      <td>BR0028</td>\n",
       "      <td>KINGSLAND AV</td>\n",
       "      <td>HERBERT ST</td>\n",
       "      <td>-73.940836</td>\n",
       "      <td>40.720195</td>\n",
       "      <td>4</td>\n",
       "      <td>3</td>\n",
       "      <td>Brooklyn</td>\n",
       "      <td>KINGSLAND AVENUE</td>\n",
       "      <td>65844.0</td>\n",
       "      <td>48893</td>\n",
       "      <td>40551</td>\n",
       "      <td>Williamsburg</td>\n",
       "      <td>Brooklyn</td>\n",
       "    </tr>\n",
       "    <tr>\n",
       "      <th>4</th>\n",
       "      <td>35</td>\n",
       "      <td>302</td>\n",
       "      <td>50</td>\n",
       "      <td>POINT (-73.96979499999998 40.69344000000007)</td>\n",
       "      <td>8</td>\n",
       "      <td>25</td>\n",
       "      <td>BR0040</td>\n",
       "      <td>VANDERBILT AV</td>\n",
       "      <td>MYRTLE AV</td>\n",
       "      <td>-73.969795</td>\n",
       "      <td>40.693440</td>\n",
       "      <td>5</td>\n",
       "      <td>3</td>\n",
       "      <td>Brooklyn</td>\n",
       "      <td>VANDERBILT AVENUE</td>\n",
       "      <td>30196.0</td>\n",
       "      <td>60512</td>\n",
       "      <td>0</td>\n",
       "      <td>Clinton Hill</td>\n",
       "      <td>Brooklyn</td>\n",
       "    </tr>\n",
       "  </tbody>\n",
       "</table>\n",
       "</div>"
      ],
      "text/plain": [
       "   CounDist  BoroCD  AssemDist                                       the_geom  CongDist  StSenDist SHELTER_ID       LOCATION  AT_BETWEEN  LONGITUDE   LATITUDE  AssetID  BoroCode  BoroName             Street  SegmentID  PhysicalID  NODEID  neighborhood neighborhood_group\n",
       "0        34     301         53   POINT (-73.94783099999995 40.70681200000007)         7         18     BR0003    MONTROSE AV  LORIMER ST -73.947831  40.706812        1         3  Brooklyn    MONTROSE AVENUE    31244.0       91546       0  Williamsburg           Brooklyn\n",
       "1        34     301         50   POINT (-73.94516199999998 40.71909700000003)        12         18     BR0014      GRAHAM AV  HERBERT ST -73.945162  40.719097        2         3  Brooklyn      GRAHAM AVENUE    35598.0       45754       0  Williamsburg           Brooklyn\n",
       "2        34     301         53  POINT (-73.94578299999995 40.702976000000035)         7         18     BR0026       BROADWAY  LEONARD ST -73.945783  40.702976        3         3  Brooklyn           BROADWAY    31350.0       43972   19920  Williamsburg           Brooklyn\n",
       "3        34     301         50   POINT (-73.94083599999993 40.72019500000005)        12         18     BR0028   KINGSLAND AV  HERBERT ST -73.940836  40.720195        4         3  Brooklyn   KINGSLAND AVENUE    65844.0       48893   40551  Williamsburg           Brooklyn\n",
       "4        35     302         50   POINT (-73.96979499999998 40.69344000000007)         8         25     BR0040  VANDERBILT AV   MYRTLE AV -73.969795  40.693440        5         3  Brooklyn  VANDERBILT AVENUE    30196.0       60512       0  Clinton Hill           Brooklyn"
      ]
     },
     "execution_count": 25,
     "metadata": {},
     "output_type": "execute_result"
    }
   ],
   "source": [
    "neighbourhoods_geo = gpd.read_file(\"neighbourhoods.geojson\")\n",
    "busstop = append_neighborhood(busstop, neighbourhoods_geo)\n",
    "busstop.head()"
   ]
  },
  {
   "cell_type": "code",
   "execution_count": 28,
   "metadata": {},
   "outputs": [
    {
     "data": {
      "image/png": "[encoded data removed]",
      "text/plain": [
       "<Figure size 432x288 with 1 Axes>"
      ]
     },
     "metadata": {
      "image/png": {
       "height": 269,
       "width": 401
      }
     },
     "output_type": "display_data"
    }
   ],
   "source": [
    "sns.set(style=\"darkgrid\")\n",
    "ax = sns.countplot(x=\"neighborhood_group\", data=busstop)"
   ]
  },
  {
   "cell_type": "code",
   "execution_count": 29,
   "metadata": {},
   "outputs": [],
   "source": [
    "# assign neighbourhood to point for subway"
   ]
  },
  {
   "cell_type": "code",
   "execution_count": null,
   "metadata": {},
   "outputs": [],
   "source": []
  }
 ],
 "metadata": {
  "kernelspec": {
   "display_name": "Python 3",
   "language": "python",
   "name": "python3"
  },
  "language_info": {
   "codemirror_mode": {
    "name": "ipython",
    "version": 3
   },
   "file_extension": ".py",
   "mimetype": "text/x-python",
   "name": "python",
   "nbconvert_exporter": "python",
   "pygments_lexer": "ipython3",
   "version": "3.7.0"
  }
 },
 "nbformat": 4,
 "nbformat_minor": 2
}
